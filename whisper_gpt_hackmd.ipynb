{
 "cells": [
  {
   "cell_type": "code",
   "execution_count": 1,
   "metadata": {
    "colab": {
     "base_uri": "https://localhost:8080/"
    },
    "id": "jWMsA8ENeMs4",
    "outputId": "b1bc28e3-2601-4d9f-cef9-b7f295d7e4e4"
   },
   "outputs": [
    {
     "name": "stdout",
     "output_type": "stream",
     "text": [
      "Looking in indexes: https://pypi.org/simple, https://us-python.pkg.dev/colab-wheels/public/simple/\n",
      "Requirement already satisfied: openai-whisper in /usr/local/lib/python3.9/dist-packages (20230314)\n",
      "Requirement already satisfied: triton==2.0.0 in /usr/local/lib/python3.9/dist-packages (from openai-whisper) (2.0.0)\n",
      "Requirement already satisfied: numba in /usr/local/lib/python3.9/dist-packages (from openai-whisper) (0.56.4)\n",
      "Requirement already satisfied: more-itertools in /usr/local/lib/python3.9/dist-packages (from openai-whisper) (9.1.0)\n",
      "Requirement already satisfied: tiktoken==0.3.1 in /usr/local/lib/python3.9/dist-packages (from openai-whisper) (0.3.1)\n",
      "Requirement already satisfied: torch in /usr/local/lib/python3.9/dist-packages (from openai-whisper) (2.0.0+cu118)\n",
      "Requirement already satisfied: ffmpeg-python==0.2.0 in /usr/local/lib/python3.9/dist-packages (from openai-whisper) (0.2.0)\n",
      "Requirement already satisfied: tqdm in /usr/local/lib/python3.9/dist-packages (from openai-whisper) (4.65.0)\n",
      "Requirement already satisfied: numpy in /usr/local/lib/python3.9/dist-packages (from openai-whisper) (1.22.4)\n",
      "Requirement already satisfied: future in /usr/local/lib/python3.9/dist-packages (from ffmpeg-python==0.2.0->openai-whisper) (0.18.3)\n",
      "Requirement already satisfied: regex>=2022.1.18 in /usr/local/lib/python3.9/dist-packages (from tiktoken==0.3.1->openai-whisper) (2022.10.31)\n",
      "Requirement already satisfied: requests>=2.26.0 in /usr/local/lib/python3.9/dist-packages (from tiktoken==0.3.1->openai-whisper) (2.27.1)\n",
      "Requirement already satisfied: cmake in /usr/local/lib/python3.9/dist-packages (from triton==2.0.0->openai-whisper) (3.25.2)\n",
      "Requirement already satisfied: lit in /usr/local/lib/python3.9/dist-packages (from triton==2.0.0->openai-whisper) (16.0.1)\n",
      "Requirement already satisfied: filelock in /usr/local/lib/python3.9/dist-packages (from triton==2.0.0->openai-whisper) (3.11.0)\n",
      "Requirement already satisfied: setuptools in /usr/local/lib/python3.9/dist-packages (from numba->openai-whisper) (67.7.2)\n",
      "Requirement already satisfied: llvmlite<0.40,>=0.39.0dev0 in /usr/local/lib/python3.9/dist-packages (from numba->openai-whisper) (0.39.1)\n",
      "Requirement already satisfied: sympy in /usr/local/lib/python3.9/dist-packages (from torch->openai-whisper) (1.11.1)\n",
      "Requirement already satisfied: typing-extensions in /usr/local/lib/python3.9/dist-packages (from torch->openai-whisper) (4.5.0)\n",
      "Requirement already satisfied: jinja2 in /usr/local/lib/python3.9/dist-packages (from torch->openai-whisper) (3.1.2)\n",
      "Requirement already satisfied: networkx in /usr/local/lib/python3.9/dist-packages (from torch->openai-whisper) (3.1)\n",
      "Requirement already satisfied: urllib3<1.27,>=1.21.1 in /usr/local/lib/python3.9/dist-packages (from requests>=2.26.0->tiktoken==0.3.1->openai-whisper) (1.26.15)\n",
      "Requirement already satisfied: certifi>=2017.4.17 in /usr/local/lib/python3.9/dist-packages (from requests>=2.26.0->tiktoken==0.3.1->openai-whisper) (2022.12.7)\n",
      "Requirement already satisfied: idna<4,>=2.5 in /usr/local/lib/python3.9/dist-packages (from requests>=2.26.0->tiktoken==0.3.1->openai-whisper) (3.4)\n",
      "Requirement already satisfied: charset-normalizer~=2.0.0 in /usr/local/lib/python3.9/dist-packages (from requests>=2.26.0->tiktoken==0.3.1->openai-whisper) (2.0.12)\n",
      "Requirement already satisfied: MarkupSafe>=2.0 in /usr/local/lib/python3.9/dist-packages (from jinja2->torch->openai-whisper) (2.1.2)\n",
      "Requirement already satisfied: mpmath>=0.19 in /usr/local/lib/python3.9/dist-packages (from sympy->torch->openai-whisper) (1.3.0)\n",
      "Reading package lists... Done\n",
      "Building dependency tree       \n",
      "Reading state information... Done\n",
      "ffmpeg is already the newest version (7:4.2.7-0ubuntu0.1).\n",
      "0 upgraded, 0 newly installed, 0 to remove and 24 not upgraded.\n",
      "Looking in indexes: https://pypi.org/simple, https://us-python.pkg.dev/colab-wheels/public/simple/\n",
      "Requirement already satisfied: dropbox in /usr/local/lib/python3.9/dist-packages (11.36.0)\n",
      "Requirement already satisfied: requests>=2.16.2 in /usr/local/lib/python3.9/dist-packages (from dropbox) (2.27.1)\n",
      "Requirement already satisfied: stone>=2.* in /usr/local/lib/python3.9/dist-packages (from dropbox) (3.3.1)\n",
      "Requirement already satisfied: six>=1.12.0 in /usr/local/lib/python3.9/dist-packages (from dropbox) (1.16.0)\n",
      "Requirement already satisfied: idna<4,>=2.5 in /usr/local/lib/python3.9/dist-packages (from requests>=2.16.2->dropbox) (3.4)\n",
      "Requirement already satisfied: urllib3<1.27,>=1.21.1 in /usr/local/lib/python3.9/dist-packages (from requests>=2.16.2->dropbox) (1.26.15)\n",
      "Requirement already satisfied: certifi>=2017.4.17 in /usr/local/lib/python3.9/dist-packages (from requests>=2.16.2->dropbox) (2022.12.7)\n",
      "Requirement already satisfied: charset-normalizer~=2.0.0 in /usr/local/lib/python3.9/dist-packages (from requests>=2.16.2->dropbox) (2.0.12)\n",
      "Requirement already satisfied: ply>=3.4 in /usr/local/lib/python3.9/dist-packages (from stone>=2.*->dropbox) (3.11)\n"
     ]
    }
   ],
   "source": [
    "!pip install -U openai-whisper\n",
    "!apt install ffmpeg\n",
    "!pip install dropbox"
   ]
  },
  {
   "cell_type": "code",
   "execution_count": 2,
   "metadata": {
    "id": "-B9ZfViXfA_v"
   },
   "outputs": [],
   "source": [
    "import whisper\n",
    "import torch\n",
    "from whisper.utils import get_writer"
   ]
  },
  {
   "cell_type": "code",
   "execution_count": 3,
   "metadata": {
    "colab": {
     "base_uri": "https://localhost:8080/"
    },
    "id": "xuVM8fb7b-Ec",
    "outputId": "2bfa3fc0-18dd-4241-de18-a021b725fded"
   },
   "outputs": [
    {
     "name": "stdout",
     "output_type": "stream",
     "text": [
      "Drive already mounted at /content/drive; to attempt to forcibly remount, call drive.mount(\"/content/drive\", force_remount=True).\n"
     ]
    }
   ],
   "source": [
    "from google.colab import drive\n",
    "import time\n",
    "import glob\n",
    "from pathlib import Path\n",
    "import glob\n",
    "import requests\n",
    "import json\n",
    "drive.mount('/content/drive')"
   ]
  },
  {
   "cell_type": "code",
   "execution_count": 4,
   "metadata": {
    "colab": {
     "base_uri": "https://localhost:8080/"
    },
    "id": "qe5I1xrpfFAc",
    "outputId": "a40ea642-0337-48a9-877b-8197ef6e6882"
   },
   "outputs": [
    {
     "name": "stdout",
     "output_type": "stream",
     "text": [
      "cuda\n"
     ]
    }
   ],
   "source": [
    "\n",
    "Model_Type = \"large\"\n",
    "DEVICE = \"cuda\" if torch.cuda.is_available() else \"cpu\"\n",
    "print(DEVICE)\n",
    "#load Whipser model\n",
    "model = whisper.load_model(Model_Type, device=DEVICE)\n"
   ]
  },
  {
   "cell_type": "code",
   "execution_count": 5,
   "metadata": {
    "colab": {
     "base_uri": "https://localhost:8080/"
    },
    "id": "ZJxKCyynfxY-",
    "outputId": "0a9c5670-f2ef-4662-cfea-3ee80613d0cd"
   },
   "outputs": [
    {
     "name": "stdout",
     "output_type": "stream",
     "text": [
      "Tue Apr 25 17:08:17 2023       \n",
      "+-----------------------------------------------------------------------------+\n",
      "| NVIDIA-SMI 525.85.12    Driver Version: 525.85.12    CUDA Version: 12.0     |\n",
      "|-------------------------------+----------------------+----------------------+\n",
      "| GPU  Name        Persistence-M| Bus-Id        Disp.A | Volatile Uncorr. ECC |\n",
      "| Fan  Temp  Perf  Pwr:Usage/Cap|         Memory-Usage | GPU-Util  Compute M. |\n",
      "|                               |                      |               MIG M. |\n",
      "|===============================+======================+======================|\n",
      "|   0  Tesla T4            Off  | 00000000:00:04.0 Off |                    0 |\n",
      "| N/A   45C    P0    27W /  70W |   9973MiB / 15360MiB |      0%      Default |\n",
      "|                               |                      |                  N/A |\n",
      "+-------------------------------+----------------------+----------------------+\n",
      "                                                                               \n",
      "+-----------------------------------------------------------------------------+\n",
      "| Processes:                                                                  |\n",
      "|  GPU   GI   CI        PID   Type   Process name                  GPU Memory |\n",
      "|        ID   ID                                                   Usage      |\n",
      "|=============================================================================|\n",
      "+-----------------------------------------------------------------------------+\n"
     ]
    }
   ],
   "source": [
    "!nvidia-smi"
   ]
  },
  {
   "cell_type": "markdown",
   "metadata": {
    "id": "1g5-HB7RgDXq"
   },
   "source": [
    "ref: https://hackmd.io/lAP-vUyeQ-KCQVfbhNJrPA\n",
    "```js\n",
    "function ClickConnect(){\n",
    "    console.log(\"Working\"); \n",
    "    document.querySelector(\"colab-toolbar-button#connect\").click() \n",
    "}\n",
    "setInterval(ClickConnect,60000)\n",
    "```\n"
   ]
  },
  {
   "cell_type": "markdown",
   "metadata": {
    "id": "9KcG0-VeeT3p"
   },
   "source": [
    "## asr"
   ]
  },
  {
   "cell_type": "code",
   "execution_count": 7,
   "metadata": {
    "id": "hklT2xBiQ4qs"
   },
   "outputs": [],
   "source": [
    "def asr(input_file, model, output_directory='file_path_on_google_dirve'):\n",
    "    Data_File = input_file\n",
    "    TextFileName = Path(Data_File).stem\n",
    "    file_name = f\"{TextFileName}\"\n",
    "    #output_directory = \"./aa\"\n",
    "    t = time.time()\n",
    "    result = model.transcribe(Data_File)\n",
    "    print(time.time()-t)\n",
    "\n",
    "    # save TXT\n",
    "    txt_writer = get_writer(\"txt\", output_directory)\n",
    "    txt_writer(result, file_name)\n",
    "\n",
    "\n",
    "    # save SRT\n",
    "    srt_writer = get_writer(\"srt\", output_directory)\n",
    "    srt_writer(result, file_name)\n",
    "    \n",
    "    return result\n"
   ]
  },
  {
   "cell_type": "code",
   "execution_count": 15,
   "metadata": {
    "id": "oOrItzloRpU5"
   },
   "outputs": [],
   "source": [
    "def translate_text(text):\n",
    "    start_t = time.time()\n",
    "    wait_time = 30\n",
    "    error = 0\n",
    "    while True:\n",
    "        api_key = \"<ms_token>\"\n",
    "        url = \"https://ifopenairesourcedev.openai.azure.com/openai/deployments/gpt-4-32k/chat/completions?api-version=2023-03-15-preview\"\n",
    "\n",
    "\n",
    "        headers = {\"Content-Type\": \"application/json\", \"api-key\": api_key}\n",
    "        parameters = {\n",
    "           \"messages\": [\n",
    "                {\"role\": \"system\", \"content\": \"你是逐字稿處理器，將逐字稿重組成會議總結，並加上標題，子標題與內文，特別是有數據的地方、有比較的內容都用表格呈現。有其他非會議主要內容，也請另外列點說明，全文統一用markdown輸出，最後無法與前面整合的保留原逐字稿內文用 {{未處理內文}} 輸出\"},\n",
    "                {\"role\": \"user\", \"content\": text},\n",
    "          ],\n",
    "         \"max_tokens\": 5000,\n",
    "          \"temperature\": 0.9,\n",
    "          \"frequency_penalty\": 0,\n",
    "          \"presence_penalty\": 0,\n",
    "          \"top_p\": 1\n",
    "        }\n",
    "        response = requests.post(url, headers=headers, json=parameters)\n",
    "        if response.status_code != 200:\n",
    "            error += 1\n",
    "            time.sleep(wait_time)\n",
    "            print(\"ERROR\" +str(response.status_code))\n",
    "            wait_time = wait_time*2            \n",
    "        else:\n",
    "            ans = response.json()['choices'][0]['message']['content']            \n",
    "            break\n",
    "    print(f'output: {time.time()-start_t}')\n",
    "    return ans\n"
   ]
  },
  {
   "cell_type": "code",
   "execution_count": 9,
   "metadata": {
    "id": "e9IqVqWQl-_l"
   },
   "outputs": [],
   "source": [
    "def do(q):\n",
    "    text = translate_text(q)\n",
    "    content_start = text.find(\"{{\") + 2\n",
    "    content_end = text.find(\"}}\")\n",
    "    \n",
    "    content = text[content_start:content_end].strip()\n",
    "    remaining_text = text[:content_start - 2] + text[content_end + 2:]\n",
    "    \n",
    "    return content, remaining_text\n"
   ]
  },
  {
   "attachments": {},
   "cell_type": "markdown",
   "metadata": {},
   "source": [
    "## Export to hackmd"
   ]
  },
  {
   "cell_type": "code",
   "execution_count": 10,
   "metadata": {
    "id": "8_4DDqWpTKC2"
   },
   "outputs": [],
   "source": [
    "def gen_hackmd(file_name,total_ans,ss):\n",
    "    token = \"<hackmd_token>\"  # 替換為您的Bearer Token\n",
    "    url = \"https://api.hackmd.io/v1/notes\"  # 替換為您要訪問的API URL\n",
    "\n",
    "    headers = {\n",
    "        \"Authorization\": f\"Bearer {token}\",\n",
    "        \"Content-Type\": \"application/json\",\n",
    "    }\n",
    "\n",
    "    info = \"\\n\\n\".join(total_ans)\n",
    "    doc = '\\n'.join(ss)\n",
    "    data = {\n",
    "        \"content\": f\"# {Path(file_name).stem}\\n###### tags: `esun`,`gpt`\\n\\n{info}\\n\\n## 逐字稿\\n {doc}\",\n",
    "        \"readPermission\": \"owner\",\n",
    "        \"writePermission\": \"owner\",\n",
    "        \"commentPermission\": \"owner\"\n",
    "    }\n",
    "\n",
    "    response = requests.post(url, headers=headers, data=json.dumps(data))\n",
    "    response_data = response.json()\n",
    "    #print(response_data['id'])\n",
    "    response_data\n",
    "    doc_id = response_data['id']\n",
    "    print(doc_id)"
   ]
  },
  {
   "attachments": {},
   "cell_type": "markdown",
   "metadata": {},
   "source": [
    "## main"
   ]
  },
  {
   "cell_type": "code",
   "execution_count": null,
   "metadata": {},
   "outputs": [],
   "source": [
    "files = glob.glob('path_of_audio_files')\n",
    "len(files),files"
   ]
  },
  {
   "cell_type": "code",
   "execution_count": null,
   "metadata": {
    "id": "D8aQIkmzZAST"
   },
   "outputs": [],
   "source": [
    "output_directory='path_of_output'\n",
    "for file_name in files:\n",
    "    print(Path(file_name).stem)\n",
    "    result = asr(file_name, model,output_directory)\n",
    "    ff = f'{output_directory}/{Path(file_name).stem}.txt'\n",
    "    print(ff)\n",
    "    with open(ff,'r') as f:\n",
    "        lines = f.readlines()\n",
    "        ss = [line[:-1] for line in lines]\n",
    "    parts = []\n",
    "    counter = []\n",
    "    total_ans = []\n",
    "    for s in ss:\n",
    "        counter.append(s)\n",
    "        q = \"\\n\".join(counter)\n",
    "        if len(q) >= 13000:\n",
    "            rest,ans = do(q)\n",
    "            counter = [rest]\n",
    "            total_ans.append(ans)\n",
    "    if counter:\n",
    "        q = \"\\n\".join(counter)\n",
    "        rest,ans = do(q)\n",
    "        total_ans.append(ans)\n",
    "        total_ans.append(rest)\n",
    "    gen_hackmd(ff,total_ans,ss)"
   ]
  }
 ],
 "metadata": {
  "accelerator": "GPU",
  "colab": {
   "provenance": []
  },
  "gpuClass": "standard",
  "kernelspec": {
   "display_name": "Python 3 (ipykernel)",
   "language": "python",
   "name": "python3"
  },
  "language_info": {
   "codemirror_mode": {
    "name": "ipython",
    "version": 3
   },
   "file_extension": ".py",
   "mimetype": "text/x-python",
   "name": "python",
   "nbconvert_exporter": "python",
   "pygments_lexer": "ipython3",
   "version": "3.10.7"
  }
 },
 "nbformat": 4,
 "nbformat_minor": 4
}
